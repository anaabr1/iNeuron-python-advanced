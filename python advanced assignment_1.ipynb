{
 "cells": [
  {
   "cell_type": "markdown",
   "id": "00b54f94",
   "metadata": {},
   "source": [
    "# Q1. What is the purpose of Python's OOP?\n"
   ]
  },
  {
   "cell_type": "markdown",
   "id": "fdaca03d",
   "metadata": {},
   "source": [
    "- Object-Oriented Programming makes the program easy to understand as well as efficient.\n",
    "- Since the class is sharable, the code can be reused.\n",
    "- Data is safe and secure with data abstraction.\n",
    "- Polymorphism allows the same interface for different objects, so programmers can write efficient code\n",
    "- inherit feature allows programmer to inhetit the methods from existing programs."
   ]
  },
  {
   "cell_type": "markdown",
   "id": "bc3422df",
   "metadata": {},
   "source": [
    "# Q2. Where does an inheritance search look for an attribute?\n"
   ]
  },
  {
   "cell_type": "markdown",
   "id": "3f48e22d",
   "metadata": {},
   "source": [
    "The inheritance search happens in bottom up fashion. its starts form object.attr and search all the way up to the parent class to find the find the first occurrence of attribute by looking in object, then in all classes above it, from bottom to top and left to right"
   ]
  },
  {
   "cell_type": "markdown",
   "id": "7e12b29a",
   "metadata": {},
   "source": [
    "# Q3. How do you distinguish between a class object and an instance object?"
   ]
  },
  {
   "cell_type": "markdown",
   "id": "5e5b7213",
   "metadata": {},
   "source": [
    "**Class Object**  - when we create a class , a class object is created.The class name itself is class object. we can access class variable using this class name\n",
    " \n",
    "              Exanple  class test:\n",
    "                x = 10\n",
    "                def __init__(self,a,b)\n",
    "                    self.a = a\n",
    "                    self.b = b\n",
    "            print(test.x)\n",
    "\n",
    "using this text.x we can access its class variables.. We can have only one class objects for a class.\n",
    "\n",
    "**Instance Object** - when we access class with paranthesis like test(), this will creat a instance of a class. we can have n numbers of instance objects for same class."
   ]
  },
  {
   "cell_type": "code",
   "execution_count": 1,
   "id": "8afc498f",
   "metadata": {},
   "outputs": [
    {
     "name": "stdout",
     "output_type": "stream",
     "text": [
      "10\n"
     ]
    }
   ],
   "source": [
    "#Class object\n",
    "class test:\n",
    "    x = 10\n",
    "    def __init__(self,a,b):\n",
    "        self.a = a\n",
    "        self.b = b\n",
    "print(test.x)"
   ]
  },
  {
   "cell_type": "code",
   "execution_count": 2,
   "id": "4b777018",
   "metadata": {},
   "outputs": [
    {
     "data": {
      "text/plain": [
       "3"
      ]
     },
     "execution_count": 2,
     "metadata": {},
     "output_type": "execute_result"
    }
   ],
   "source": [
    "# instance object\n",
    "instObj = test(3,4)\n",
    "instObj.a"
   ]
  },
  {
   "cell_type": "markdown",
   "id": "a3324b8a",
   "metadata": {},
   "source": [
    "# Q4. What makes the first argument in a class’s method function special?"
   ]
  },
  {
   "cell_type": "markdown",
   "id": "9fa95799",
   "metadata": {},
   "source": [
    "The keyword **self** represents the instance of a class and binds the attributes with the given arguments"
   ]
  },
  {
   "cell_type": "markdown",
   "id": "300191c2",
   "metadata": {},
   "source": [
    "# Q5. What is the purpose of the init method?\n",
    "__init__ is a reseved method in python classes. This method called when an object is created from the class and it allow the class to initialize the attributes of a class"
   ]
  },
  {
   "cell_type": "markdown",
   "id": "2c101c4b",
   "metadata": {},
   "source": [
    "# Q6. What is the process for creating a class instance?\n",
    "To create instances of a class,\n",
    "\n",
    "- Create a class\n",
    "- call the class using class name and assign it to a variable (object variable)\n",
    "- pass in whatever arguments its init method accepts"
   ]
  },
  {
   "cell_type": "code",
   "execution_count": 3,
   "id": "727903db",
   "metadata": {},
   "outputs": [],
   "source": [
    "class Employee:\n",
    "    empCount = 0\n",
    "\n",
    "    def __init__(self, name, salary):\n",
    "        self.name = name\n",
    "        self.salary = salary\n",
    "        Employee.empCount += 1\n",
    "        \n",
    "objClass = Employee('anaab','120000')"
   ]
  },
  {
   "cell_type": "markdown",
   "id": "a9fed543",
   "metadata": {},
   "source": [
    "# Q7. What is the process for creating a class?\n",
    "process to create class\n",
    "\n",
    "- class definition starts with keyword class\n",
    "- follwed by classname and ':'\n",
    "- class will have doc string\n",
    "- class should have at least one statements."
   ]
  },
  {
   "cell_type": "code",
   "execution_count": 4,
   "id": "41620463",
   "metadata": {},
   "outputs": [],
   "source": [
    "class MyNewClass:\n",
    "    '''This is a docstring. I have created a new class'''\n",
    "    pass"
   ]
  },
  {
   "cell_type": "markdown",
   "id": "2b698048",
   "metadata": {},
   "source": [
    "# Q8. How would you define the superclasses of a class?\n",
    " - The class from which a class inherits is called the parent or superclass"
   ]
  },
  {
   "cell_type": "code",
   "execution_count": null,
   "id": "26c1ec43",
   "metadata": {},
   "outputs": [],
   "source": []
  }
 ],
 "metadata": {
  "kernelspec": {
   "display_name": "Python 3 (ipykernel)",
   "language": "python",
   "name": "python3"
  },
  "language_info": {
   "codemirror_mode": {
    "name": "ipython",
    "version": 3
   },
   "file_extension": ".py",
   "mimetype": "text/x-python",
   "name": "python",
   "nbconvert_exporter": "python",
   "pygments_lexer": "ipython3",
   "version": "3.9.13"
  }
 },
 "nbformat": 4,
 "nbformat_minor": 5
}
