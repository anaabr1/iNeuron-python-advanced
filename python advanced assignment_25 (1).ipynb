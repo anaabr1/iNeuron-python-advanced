{
 "cells": [
  {
   "cell_type": "markdown",
   "id": "3e87f3e3",
   "metadata": {},
   "source": [
    "# Q1. What is the distinction between a numpy array and a pandas data frame? Is there a way to convert between the two if there is ?\n",
    "**Ans**: Numpy Ndarray provides a lot of convenient and optimized methods for performing several mathematical operations on vectors.\n",
    "\n",
    "Pandas Dataframe is an in-memory 2-dimensional tabular representation of data. In simpler words, it can be seen as a spreadsheet having rows and columns.\n",
    "\n",
    "Conversion : Dataframe=pandas.DataFrame(array)\n",
    "\n"
   ]
  },
  {
   "cell_type": "markdown",
   "id": "fbde1bf5",
   "metadata": {},
   "source": [
    "# Q2. What can go wrong when an user enters in a stock-ticker symbol, and how do you handle it?\n",
    "**Ans**: Invalid Symbol: The user may enter an invalid or non-existent stock ticker symbol. For example, they might misspell the symbol or input a symbol that doesn't correspond to any listed stock.\n",
    "\n",
    "Multiple Matches: Sometimes, a stock ticker symbol can be associated with multiple companies or financial instruments, especially if it's a common acronym or abbreviation.\n",
    "\n",
    "API Errors: If your application relies on an external API to fetch stock data, there might be issues with the API server, downtime, or changes in the API response format that could lead to errors."
   ]
  },
  {
   "cell_type": "code",
   "execution_count": 3,
   "id": "e16f2bf8",
   "metadata": {},
   "outputs": [
    {
     "name": "stdout",
     "output_type": "stream",
     "text": [
      "Requirement already satisfied: yfinance in c:\\users\\anaabraut\\anaconda3\\lib\\site-packages (0.2.26)\n",
      "Requirement already satisfied: pandas>=1.3.0 in c:\\users\\anaabraut\\anaconda3\\lib\\site-packages (from yfinance) (1.5.3)\n",
      "Requirement already satisfied: numpy>=1.16.5 in c:\\users\\anaabraut\\anaconda3\\lib\\site-packages (from yfinance) (1.24.3)\n",
      "Requirement already satisfied: requests>=2.31 in c:\\users\\anaabraut\\anaconda3\\lib\\site-packages (from yfinance) (2.31.0)\n",
      "Requirement already satisfied: multitasking>=0.0.7 in c:\\users\\anaabraut\\anaconda3\\lib\\site-packages (from yfinance) (0.0.11)\n",
      "Requirement already satisfied: lxml>=4.9.1 in c:\\users\\anaabraut\\anaconda3\\lib\\site-packages (from yfinance) (4.9.2)\n",
      "Requirement already satisfied: appdirs>=1.4.4 in c:\\users\\anaabraut\\anaconda3\\lib\\site-packages (from yfinance) (1.4.4)\n",
      "Requirement already satisfied: pytz>=2022.5 in c:\\users\\anaabraut\\anaconda3\\lib\\site-packages (from yfinance) (2022.7)\n",
      "Requirement already satisfied: frozendict>=2.3.4 in c:\\users\\anaabraut\\anaconda3\\lib\\site-packages (from yfinance) (2.3.8)\n",
      "Requirement already satisfied: beautifulsoup4>=4.11.1 in c:\\users\\anaabraut\\anaconda3\\lib\\site-packages (from yfinance) (4.12.2)\n",
      "Requirement already satisfied: html5lib>=1.1 in c:\\users\\anaabraut\\anaconda3\\lib\\site-packages (from yfinance) (1.1)\n",
      "Requirement already satisfied: soupsieve>1.2 in c:\\users\\anaabraut\\anaconda3\\lib\\site-packages (from beautifulsoup4>=4.11.1->yfinance) (2.4)\n",
      "Requirement already satisfied: six>=1.9 in c:\\users\\anaabraut\\anaconda3\\lib\\site-packages (from html5lib>=1.1->yfinance) (1.16.0)\n",
      "Requirement already satisfied: webencodings in c:\\users\\anaabraut\\anaconda3\\lib\\site-packages (from html5lib>=1.1->yfinance) (0.5.1)\n",
      "Requirement already satisfied: python-dateutil>=2.8.1 in c:\\users\\anaabraut\\anaconda3\\lib\\site-packages (from pandas>=1.3.0->yfinance) (2.8.2)\n",
      "Requirement already satisfied: charset-normalizer<4,>=2 in c:\\users\\anaabraut\\anaconda3\\lib\\site-packages (from requests>=2.31->yfinance) (2.0.4)\n",
      "Requirement already satisfied: idna<4,>=2.5 in c:\\users\\anaabraut\\anaconda3\\lib\\site-packages (from requests>=2.31->yfinance) (3.4)\n",
      "Requirement already satisfied: urllib3<3,>=1.21.1 in c:\\users\\anaabraut\\anaconda3\\lib\\site-packages (from requests>=2.31->yfinance) (1.26.16)\n",
      "Requirement already satisfied: certifi>=2017.4.17 in c:\\users\\anaabraut\\anaconda3\\lib\\site-packages (from requests>=2.31->yfinance) (2023.5.7)\n",
      "Enter a stock ticker symbol: aa\n",
      "Multiple matches found: dict_keys(['address1', 'address2', 'city', 'state', 'zip', 'country', 'phone', 'website', 'industry', 'industryDisp', 'sector', 'sectorDisp', 'longBusinessSummary', 'fullTimeEmployees', 'companyOfficers', 'auditRisk', 'boardRisk', 'compensationRisk', 'shareHolderRightsRisk', 'overallRisk', 'governanceEpochDate', 'compensationAsOfEpochDate', 'maxAge', 'priceHint', 'previousClose', 'open', 'dayLow', 'dayHigh', 'regularMarketPreviousClose', 'regularMarketOpen', 'regularMarketDayLow', 'regularMarketDayHigh', 'dividendRate', 'dividendYield', 'exDividendDate', 'forwardPE', 'volume', 'regularMarketVolume', 'averageVolume', 'averageVolume10days', 'averageDailyVolume10Day', 'bid', 'ask', 'bidSize', 'askSize', 'marketCap', 'fiftyTwoWeekLow', 'fiftyTwoWeekHigh', 'fiftyDayAverage', 'twoHundredDayAverage', 'trailingAnnualDividendRate', 'trailingAnnualDividendYield', 'currency', 'enterpriseValue', 'profitMargins', 'sharesOutstanding', 'sharesShort', 'sharesShortPriorMonth', 'sharesShortPreviousMonthDate', 'dateShortInterest', 'sharesPercentSharesOut', 'heldPercentInsiders', 'heldPercentInstitutions', 'shortRatio', 'shortPercentOfFloat', 'impliedSharesOutstanding', 'bookValue', 'priceToBook', 'lastFiscalYearEnd', 'nextFiscalYearEnd', 'mostRecentQuarter', 'trailingEps', 'forwardEps', 'pegRatio', 'lastSplitFactor', 'lastSplitDate', '52WeekChange', 'SandP52WeekChange', 'lastDividendValue', 'lastDividendDate', 'exchange', 'quoteType', 'symbol', 'underlyingSymbol', 'shortName', 'longName', 'firstTradeDateEpochUtc', 'timeZoneFullName', 'timeZoneShortName', 'uuid', 'messageBoardId', 'gmtOffSetMilliseconds', 'currentPrice', 'targetHighPrice', 'targetLowPrice', 'targetMeanPrice', 'targetMedianPrice', 'recommendationMean', 'recommendationKey', 'numberOfAnalystOpinions', 'revenuePerShare', 'grossProfits', 'grossMargins', 'ebitdaMargins', 'operatingMargins', 'financialCurrency', 'trailingPegRatio'])\n"
     ]
    }
   ],
   "source": [
    "!pip install yfinance\n",
    "import yfinance as yf  #\n",
    "\n",
    "def get_stock_data(ticker):\n",
    "    try:\n",
    "        # Validate the input (Optional, depending on your use case)\n",
    "        if not ticker.isalpha():\n",
    "            raise ValueError(\"Invalid ticker symbol. Only alphabetic characters allowed.\")\n",
    "\n",
    "        # Fetch the stock data using the yfinance library\n",
    "        stock_data = yf.Ticker(ticker)\n",
    "\n",
    "        # Check if the stock data is valid\n",
    "        if stock_data.info is None:\n",
    "            raise ValueError(\"Invalid stock ticker symbol. No data available.\")\n",
    "\n",
    "        # Handle multiple matches (Optional, depending on your use case)\n",
    "        if len(stock_data.info) > 1:\n",
    "            # You could provide the user with a list of matched symbols and let them choose the correct one.\n",
    "            matched_symbols = stock_data.info.keys()\n",
    "            return f\"Multiple matches found: {matched_symbols}\"\n",
    "\n",
    "        # If everything is good, return the stock data or perform any other required operations.\n",
    "        return stock_data.info\n",
    "\n",
    "    except ValueError as ve:\n",
    "        return str(ve)  # Return the error message to inform the user about the issue.\n",
    "\n",
    "    except yf.YFinanceError as yfe:\n",
    "        return f\"Error fetching data from the API: {yfe}\"\n",
    "\n",
    "    except Exception as e:\n",
    "        return f\"Unexpected error occurred: {e}\"\n",
    "\n",
    "# Example usage:\n",
    "user_input = input(\"Enter a stock ticker symbol: \")\n",
    "result = get_stock_data(user_input)\n",
    "print(result)\n"
   ]
  },
  {
   "cell_type": "markdown",
   "id": "0ac707e7",
   "metadata": {},
   "source": [
    "# Q3. Identify some of the plotting techniques that are used to produce a stock-market chart ?\n",
    "**Ans**: Bar chart, Line Chart are used for plotting.\n",
    "\n"
   ]
  },
  {
   "cell_type": "markdown",
   "id": "0d7194ed",
   "metadata": {},
   "source": [
    "# Q4. Why is it essential to print a legend on a stock market chart ?\n",
    "**Ans**: Legend will help comparison between different stocks, so will be essential on a stock market chart\n",
    "\n"
   ]
  },
  {
   "cell_type": "markdown",
   "id": "18a0153d",
   "metadata": {},
   "source": [
    "# Q5. What is the best way to limit the length of a pandas data frame to less than a year ?\n",
    "**Ans**: : We can use start and end parameters for that. In start we write the date from where we are starting and at the end we write the end date. SO within this span we can restric the duration.Also we can use the parameters like periods for how much times we need the duration and we can also use the frequency parameter."
   ]
  },
  {
   "cell_type": "markdown",
   "id": "927d82e3",
   "metadata": {},
   "source": [
    "# Q6. What is the definition of a 180-day moving average ?\n",
    "**Ans**: : The 180-day moving average is represented as a line on charts and represents the average price over the past 180 days. The moving average can give traders a sense regarding whether the trend is up or down, while also identifying potential support or resistance areas."
   ]
  },
  {
   "cell_type": "markdown",
   "id": "c13b805a",
   "metadata": {},
   "source": [
    "# Q7. Did the chapter&#39;s final example use &quot;indirect&quot; importing? If so, how exactly do you do it?\n",
    "**Ans**: "
   ]
  },
  {
   "cell_type": "code",
   "execution_count": null,
   "id": "4b56de60",
   "metadata": {},
   "outputs": [],
   "source": []
  }
 ],
 "metadata": {
  "kernelspec": {
   "display_name": "Python 3 (ipykernel)",
   "language": "python",
   "name": "python3"
  },
  "language_info": {
   "codemirror_mode": {
    "name": "ipython",
    "version": 3
   },
   "file_extension": ".py",
   "mimetype": "text/x-python",
   "name": "python",
   "nbconvert_exporter": "python",
   "pygments_lexer": "ipython3",
   "version": "3.11.3"
  }
 },
 "nbformat": 4,
 "nbformat_minor": 5
}
